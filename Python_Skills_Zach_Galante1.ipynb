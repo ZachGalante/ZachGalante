{
 "cells": [
  {
   "cell_type": "markdown",
   "metadata": {},
   "source": [
    " # Python Skills\n",
    " ### By Zachary Galante \n",
    " "
   ]
  },
  {
   "cell_type": "markdown",
   "metadata": {},
   "source": [
    "# Indexing and using operations on elements of a list\n",
    "## Using an f-string as well to print the variable within the line of text"
   ]
  },
  {
   "cell_type": "code",
   "execution_count": 4,
   "metadata": {},
   "outputs": [
    {
     "name": "stdout",
     "output_type": "stream",
     "text": [
      " Every Third Sale: [100.72, 12.95, 9.83, 550.75]\n",
      "674.25\n"
     ]
    }
   ],
   "source": [
    "sales=[100.72,63.29,44.00,12.95,1067.50,100.00,9.83,55.92,72.89,550.75]\n",
    "thirdSales = print(f\" Every Third Sale: {sales[::3]}\")\n",
    "thirdsales = [100.72, 12.95, 9.83, 550.75]\n",
    "totalSales = sum(thirdsales)\n",
    "print(totalSales)\n"
   ]
  },
  {
   "cell_type": "markdown",
   "metadata": {},
   "source": [
    "# List Comprehensions\n",
    "## Using list comprehensions to calculate the relative frequency of the list of numbers"
   ]
  },
  {
   "cell_type": "code",
   "execution_count": 2,
   "metadata": {},
   "outputs": [
    {
     "data": {
      "text/plain": [
       "[0.01818181818181818,\n",
       " 0.03636363636363636,\n",
       " 0.05454545454545454,\n",
       " 0.07272727272727272,\n",
       " 0.09090909090909091,\n",
       " 0.10909090909090909,\n",
       " 0.12727272727272726,\n",
       " 0.14545454545454545,\n",
       " 0.16363636363636364,\n",
       " 0.18181818181818182]"
      ]
     },
     "execution_count": 2,
     "metadata": {},
     "output_type": "execute_result"
    }
   ],
   "source": [
    "nums = list(range(1,11))\n",
    "sum_of_nums = sum(nums)\n",
    "rel_freq = [num/sum_of_nums for num in nums]\n",
    "rel_freq"
   ]
  },
  {
   "cell_type": "markdown",
   "metadata": {},
   "source": [
    "# Using Hash Tables to perform word count on a text file \n",
    "### The output of the code is written at the bottom of the cell as a comment"
   ]
  },
  {
   "cell_type": "code",
   "execution_count": null,
   "metadata": {},
   "outputs": [],
   "source": [
    "with open('aliceInWonderland.txt', 'r') as file:\n",
    "    text = file.read().strip() \n",
    "word_counts, duration_in_seconds = word_count_via_dicts(text)\n",
    "word_freq_list = [[v,k] for k,v in word_counts.items()]\n",
    "word_freq_list.sort(reverse=True) \n",
    "\n",
    "print(f\"The most frequent word is        '{word_freq_list[0][1]}' with a frequency of {word_freq_list[0][0]}\") \n",
    "print(f\"The second most frequent word is '{word_freq_list[1][1]}' with a frequency of {word_freq_list[1][0]}\"\n",
    "      \n",
    "#OUTPUT\n",
    "#The most frequent word is        'the' with a frequency of 1791\n",
    "#The second most frequent word is 'and' with a frequency of 881"
   ]
  },
  {
   "cell_type": "markdown",
   "metadata": {},
   "source": [
    "# Numpy \n"
   ]
  },
  {
   "cell_type": "markdown",
   "metadata": {},
   "source": [
    "## Exploring the functions of the Numpy library, such as the np.concatenate() function"
   ]
  },
  {
   "cell_type": "code",
   "execution_count": 5,
   "metadata": {},
   "outputs": [
    {
     "data": {
      "text/plain": [
       "array([ 1,  2,  3,  4,  5,  6,  7,  8,  9, 10, 11, 12, 13, 14, 15])"
      ]
     },
     "execution_count": 5,
     "metadata": {},
     "output_type": "execute_result"
    }
   ],
   "source": [
    "import numpy as np \n",
    "a0 = [1,2,3,4,5,6,7,8]\n",
    "a1 = np.array(a0)\n",
    "a2 = [9,10,11,12,13,14,15]\n",
    "a3 = np.array(a2)\n",
    "np.concatenate((a1,a3), axis = 0)"
   ]
  },
  {
   "cell_type": "markdown",
   "metadata": {},
   "source": [
    "## Fancy Indexing\n",
    "### Using fancy indexing to manipulate the columns of an array"
   ]
  },
  {
   "cell_type": "code",
   "execution_count": 11,
   "metadata": {},
   "outputs": [
    {
     "name": "stdout",
     "output_type": "stream",
     "text": [
      " Array before fancy indexing:\n",
      " [[0 1 2]\n",
      " [3 4 5]\n",
      " [6 7 8]]\n",
      "Array after fancy indexing:\n",
      " [[0 2 1]\n",
      " [3 5 4]\n",
      " [6 8 7]]\n"
     ]
    }
   ],
   "source": [
    "import numpy as np \n",
    "arr  = np.arange(9).reshape(3,3)\n",
    "print(f\" Array before fancy indexing:\\n {arr}\")\n",
    "b = arr[:,[0,2,1]]\n",
    "print(f\"Array after fancy indexing:\\n {b}\")"
   ]
  },
  {
   "cell_type": "markdown",
   "metadata": {},
   "source": [
    "## Euclidean Distance\n",
    "### Using numpy arrays, I am finding the Euclidean distance between two points"
   ]
  },
  {
   "cell_type": "code",
   "execution_count": 13,
   "metadata": {},
   "outputs": [
    {
     "name": "stdout",
     "output_type": "stream",
     "text": [
      "The Euclidean Distance between the two points is: 44\n"
     ]
    }
   ],
   "source": [
    "import numpy as np \n",
    "import pandas as pd \n",
    "arr = [3,5,6,7,8]\n",
    "arr1 = [6,8,2,4,9]\n",
    "new_arr = np.array(arr)\n",
    "new_arr1  = np.array(arr1)\n",
    "total = np.power(new_arr - new_arr1,2)\n",
    "c = np.sum(total)\n",
    "print(f'The Euclidean Distance between the two points is: {c}')"
   ]
  },
  {
   "cell_type": "markdown",
   "metadata": {},
   "source": [
    "# Pandas"
   ]
  },
  {
   "cell_type": "markdown",
   "metadata": {},
   "source": [
    "## Creating a Dataframe"
   ]
  },
  {
   "cell_type": "markdown",
   "metadata": {},
   "source": [
    "### Once the Dataframe is initialized I am removing the missing values, with the .dropna() function while also making use of the \"thresh\" keyword."
   ]
  },
  {
   "cell_type": "code",
   "execution_count": 20,
   "metadata": {},
   "outputs": [
    {
     "data": {
      "text/html": [
       "<div>\n",
       "<style scoped>\n",
       "    .dataframe tbody tr th:only-of-type {\n",
       "        vertical-align: middle;\n",
       "    }\n",
       "\n",
       "    .dataframe tbody tr th {\n",
       "        vertical-align: top;\n",
       "    }\n",
       "\n",
       "    .dataframe thead th {\n",
       "        text-align: right;\n",
       "    }\n",
       "</style>\n",
       "<table border=\"1\" class=\"dataframe\">\n",
       "  <thead>\n",
       "    <tr style=\"text-align: right;\">\n",
       "      <th></th>\n",
       "      <th>Family Member Name</th>\n",
       "      <th>Age</th>\n",
       "      <th>Town</th>\n",
       "    </tr>\n",
       "  </thead>\n",
       "  <tbody>\n",
       "    <tr>\n",
       "      <td>0</td>\n",
       "      <td>Zach</td>\n",
       "      <td>19.0</td>\n",
       "      <td>Medway</td>\n",
       "    </tr>\n",
       "    <tr>\n",
       "      <td>1</td>\n",
       "      <td>Anthony</td>\n",
       "      <td>44.0</td>\n",
       "      <td>Hyde Park</td>\n",
       "    </tr>\n",
       "    <tr>\n",
       "      <td>3</td>\n",
       "      <td>Andrew</td>\n",
       "      <td>45.0</td>\n",
       "      <td>Somerville</td>\n",
       "    </tr>\n",
       "    <tr>\n",
       "      <td>4</td>\n",
       "      <td>Kelly</td>\n",
       "      <td>43.0</td>\n",
       "      <td>Somerville</td>\n",
       "    </tr>\n",
       "    <tr>\n",
       "      <td>5</td>\n",
       "      <td>Nate</td>\n",
       "      <td>8.0</td>\n",
       "      <td>Dedham</td>\n",
       "    </tr>\n",
       "    <tr>\n",
       "      <td>7</td>\n",
       "      <td>Lou</td>\n",
       "      <td>75.0</td>\n",
       "      <td>Hyde Park</td>\n",
       "    </tr>\n",
       "    <tr>\n",
       "      <td>8</td>\n",
       "      <td>Paul</td>\n",
       "      <td>74.0</td>\n",
       "      <td>Medway</td>\n",
       "    </tr>\n",
       "    <tr>\n",
       "      <td>10</td>\n",
       "      <td>Rosemary</td>\n",
       "      <td>72.0</td>\n",
       "      <td>Medway</td>\n",
       "    </tr>\n",
       "  </tbody>\n",
       "</table>\n",
       "</div>"
      ],
      "text/plain": [
       "   Family Member Name   Age        Town\n",
       "0                Zach  19.0      Medway\n",
       "1             Anthony  44.0   Hyde Park\n",
       "3              Andrew  45.0  Somerville\n",
       "4               Kelly  43.0  Somerville\n",
       "5                Nate   8.0      Dedham\n",
       "7                 Lou  75.0   Hyde Park\n",
       "8                Paul  74.0      Medway\n",
       "10           Rosemary  72.0      Medway"
      ]
     },
     "execution_count": 20,
     "metadata": {},
     "output_type": "execute_result"
    }
   ],
   "source": [
    "import pandas as pd\n",
    "import numpy as np\n",
    "ser = pd.Series(['Zach', 'Anthony', None, 'Andrew', 'Kelly', 'Nate', None, 'Lou', 'Paul', None, 'Rosemary'])\n",
    "age = pd.Series([19,44,None,45,43,8,None,75,74,None,72])\n",
    "ser2  = pd.Series(['Medway', 'Hyde Park', None , 'Somerville','Somerville', 'Dedham', None , 'Hyde Park','Medway', None , 'Medway'])\n",
    "df1 = pd.DataFrame({\"Family Member Name\": ser,\n",
    "                   'Age': age,\n",
    "                   'Town': ser2})\n",
    "ser2  = pd.Series(['Medway', 'Hyde Park', None , 'Somerville','Somerville', 'Dedham', None , 'Hyde Park','Medway', None , 'Medway'])\n",
    "df1\n",
    "df1.dropna(thresh = 2)"
   ]
  },
  {
   "cell_type": "markdown",
   "metadata": {},
   "source": [
    "## apply() function \n",
    "### Here, I am using the apply() function to take the mean of each row and column to then return back a row and column of the results in each example below"
   ]
  },
  {
   "cell_type": "code",
   "execution_count": 38,
   "metadata": {},
   "outputs": [
    {
     "name": "stdout",
     "output_type": "stream",
     "text": [
      "         Monday  Tuesday  Wednesday  Thursday  Friday\n",
      "Bobby         0        1          2         3       4\n",
      "Zach          5        6          7         8       9\n",
      "Anthony      10       11         12        13      14\n",
      "Chase        15       16         17        18      19\n",
      " Returns the mean of each column in a row form\n",
      "Monday        7.5\n",
      "Tuesday       8.5\n",
      "Wednesday     9.5\n",
      "Thursday     10.5\n",
      "Friday       11.5\n",
      "dtype: float64\n",
      "Returns the mean of each row in a column form\n",
      "Bobby       2.0\n",
      "Zach        7.0\n",
      "Anthony    12.0\n",
      "Chase      17.0\n",
      "dtype: float64\n"
     ]
    }
   ],
   "source": [
    "import numpy as np\n",
    "import pandas as pd\n",
    "df1 = pd.DataFrame(np.arange(20).reshape(4,5), columns = ['Monday', 'Tuesday', 'Wednesday', 'Thursday', 'Friday'], index = ['Bobby', 'Zach','Anthony', 'Chase'])\n",
    "print(df1)\n",
    "rw = df1.apply(lambda row: row.mean(), axis = 0)\n",
    "print(f\" Returns the mean of each column in a row form\\n{rw}\") #Will return the mean of each column in a row.\n",
    "cl = df1.apply(lambda col: col.mean(), axis =1)\n",
    "print(f\"Returns the mean of each row in a column form\\n{cl}\") #Will return the mean of each row in a new column form"
   ]
  },
  {
   "cell_type": "markdown",
   "metadata": {},
   "source": [
    "## Groupby() function \n",
    "### After creating a Dataframe from a dictionary, I am using the groupby function to find the sum for each city"
   ]
  },
  {
   "cell_type": "code",
   "execution_count": 82,
   "metadata": {},
   "outputs": [
    {
     "name": "stdout",
     "output_type": "stream",
     "text": [
      "Original Dataframe:\n",
      "   Company Name           City  2019 Price  2020 Price\n",
      "0        Apple     California          23          26\n",
      "1    Microsoft     Washington          45          76\n",
      "2          IBM       New York          77         100\n",
      "3        Tesla     California          12         104\n",
      "4     Facebook  Massachusetts          34          44\n",
      "5       Oculus       New York          55          23\n",
      "6         Sony  Massachusetts          87          19\n",
      "Grouped Dataframe by city and calculating the sum:\n",
      "                2019 Price  2020 Price\n",
      "City                                 \n",
      "California             35         130\n",
      "Massachusetts         121          63\n",
      "New York              132         123\n",
      "Washington             45          76\n"
     ]
    }
   ],
   "source": [
    "import numpy as np\n",
    "import pandas as pd \n",
    "tech_companies = pd.DataFrame({'Company Name':['Apple','Microsoft','IBM','Tesla','Facebook','Oculus', 'Sony'],\n",
    "                             'City':['California', 'Washington', 'New York', 'California', 'Massachusetts', 'New York', 'Massachusetts'],\n",
    "                             '2019 Price': [23,45,77,12,34,55,87],\n",
    "                             '2020 Price': [26,76,100,104,44,23,19]})\n",
    "\n",
    "print(f\"Original Dataframe:\\n {tech_companies}\")  \n",
    "groups = tech_companies.groupby('City').sum()\n",
    "print(f\"Grouped Dataframe by city and calculating the sum:\\n {groups}\")\n",
    "\n"
   ]
  },
  {
   "cell_type": "markdown",
   "metadata": {},
   "source": [
    "## Filling missing values with groupby()\n",
    "### Here I am making an NFL Dataframe with the teams points scored each week and then calculating the average score each week which is then added to the Dataframe and is used to fill any missing values."
   ]
  },
  {
   "cell_type": "code",
   "execution_count": 134,
   "metadata": {},
   "outputs": [
    {
     "data": {
      "text/html": [
       "<div>\n",
       "<style scoped>\n",
       "    .dataframe tbody tr th:only-of-type {\n",
       "        vertical-align: middle;\n",
       "    }\n",
       "\n",
       "    .dataframe tbody tr th {\n",
       "        vertical-align: top;\n",
       "    }\n",
       "\n",
       "    .dataframe thead th {\n",
       "        text-align: right;\n",
       "    }\n",
       "</style>\n",
       "<table border=\"1\" class=\"dataframe\">\n",
       "  <thead>\n",
       "    <tr style=\"text-align: right;\">\n",
       "      <th></th>\n",
       "      <th>Week 1</th>\n",
       "      <th>Week 2</th>\n",
       "      <th>Week 3</th>\n",
       "      <th>Week 4</th>\n",
       "      <th>Divison</th>\n",
       "    </tr>\n",
       "  </thead>\n",
       "  <tbody>\n",
       "    <tr>\n",
       "      <td>Packers</td>\n",
       "      <td>45.000000</td>\n",
       "      <td>21.0</td>\n",
       "      <td>24.0</td>\n",
       "      <td>0.000</td>\n",
       "      <td>NFC North</td>\n",
       "    </tr>\n",
       "    <tr>\n",
       "      <td>Bears</td>\n",
       "      <td>21.000000</td>\n",
       "      <td>24.8</td>\n",
       "      <td>14.0</td>\n",
       "      <td>21.000</td>\n",
       "      <td>NFC North</td>\n",
       "    </tr>\n",
       "    <tr>\n",
       "      <td>Vikings</td>\n",
       "      <td>10.000000</td>\n",
       "      <td>24.0</td>\n",
       "      <td>35.0</td>\n",
       "      <td>42.000</td>\n",
       "      <td>NFC North</td>\n",
       "    </tr>\n",
       "    <tr>\n",
       "      <td>Lions</td>\n",
       "      <td>28.833333</td>\n",
       "      <td>34.0</td>\n",
       "      <td>24.0</td>\n",
       "      <td>24.000</td>\n",
       "      <td>NFC North</td>\n",
       "    </tr>\n",
       "    <tr>\n",
       "      <td>Patriots</td>\n",
       "      <td>35.000000</td>\n",
       "      <td>24.8</td>\n",
       "      <td>32.0</td>\n",
       "      <td>17.000</td>\n",
       "      <td>AFC East</td>\n",
       "    </tr>\n",
       "    <tr>\n",
       "      <td>Jets</td>\n",
       "      <td>38.000000</td>\n",
       "      <td>18.0</td>\n",
       "      <td>21.0</td>\n",
       "      <td>24.000</td>\n",
       "      <td>AFC East</td>\n",
       "    </tr>\n",
       "    <tr>\n",
       "      <td>Bills</td>\n",
       "      <td>24.000000</td>\n",
       "      <td>24.8</td>\n",
       "      <td>18.0</td>\n",
       "      <td>35.000</td>\n",
       "      <td>AFC East</td>\n",
       "    </tr>\n",
       "    <tr>\n",
       "      <td>Dolphins</td>\n",
       "      <td>28.833333</td>\n",
       "      <td>27.0</td>\n",
       "      <td>24.0</td>\n",
       "      <td>42.000</td>\n",
       "      <td>AFC East</td>\n",
       "    </tr>\n",
       "    <tr>\n",
       "      <td>Average Score</td>\n",
       "      <td>28.833333</td>\n",
       "      <td>24.8</td>\n",
       "      <td>24.0</td>\n",
       "      <td>25.625</td>\n",
       "      <td>None</td>\n",
       "    </tr>\n",
       "  </tbody>\n",
       "</table>\n",
       "</div>"
      ],
      "text/plain": [
       "                  Week 1  Week 2  Week 3  Week 4    Divison\n",
       "Packers        45.000000    21.0    24.0   0.000  NFC North\n",
       "Bears          21.000000    24.8    14.0  21.000  NFC North\n",
       "Vikings        10.000000    24.0    35.0  42.000  NFC North\n",
       "Lions          28.833333    34.0    24.0  24.000  NFC North\n",
       "Patriots       35.000000    24.8    32.0  17.000   AFC East\n",
       "Jets           38.000000    18.0    21.0  24.000   AFC East\n",
       "Bills          24.000000    24.8    18.0  35.000   AFC East\n",
       "Dolphins       28.833333    27.0    24.0  42.000   AFC East\n",
       "Average Score  28.833333    24.8    24.0  25.625       None"
      ]
     },
     "execution_count": 134,
     "metadata": {},
     "output_type": "execute_result"
    }
   ],
   "source": [
    "import pandas as pd\n",
    "import numpy as np\n",
    "f_scores = pd.DataFrame({'Week 1':[45,21,10,None,35,38,24,None,],\n",
    "                        'Week 2':[21,None,24,34,None,18,None,27],\n",
    "                        'Week 3':[None,14,35,24,32,21,18,24],\n",
    "                        'Week 4':[0, 21,42,24,17,24,35,42],\n",
    "                        'Divison':['NFC North','NFC North','NFC North','NFC North','AFC East','AFC East','AFC East','AFC East']},\n",
    "                       index = ['Packers','Bears','Vikings','Lions','Patriots','Jets','Bills','Dolphins'])\n",
    "\n",
    "#div_avg = f_scores.groupby('Divison').mean()\n",
    "wk_avg = f_scores.apply(lambda col: col.mean() if col.name in ['Week 1','Week 2','Week 3','Week 4'] else (\"None\"),  axis = 0)\n",
    "# Getting a row back of the average of each column for each week\n",
    "new_row = pd.DataFrame([wk_avg], index = [\"Average Score\"])\n",
    "# Creating a new row which is going to be initialized as a Dataframe to be concatenated to the original Dataframe.\n",
    "f1_scores = pd.concat([f_scores,new_row])\n",
    "# Adding the new Dataframe to the orginal to make one Dataframe.\n",
    "f1_scores\n",
    "f1_scores.fillna(wk_avg)\n",
    "# Replacing any missing values with the Average score for the week."
   ]
  },
  {
   "cell_type": "code",
   "execution_count": null,
   "metadata": {},
   "outputs": [],
   "source": []
  }
 ],
 "metadata": {
  "kernelspec": {
   "display_name": "Python 3",
   "language": "python",
   "name": "python3"
  },
  "language_info": {
   "codemirror_mode": {
    "name": "ipython",
    "version": 3
   },
   "file_extension": ".py",
   "mimetype": "text/x-python",
   "name": "python",
   "nbconvert_exporter": "python",
   "pygments_lexer": "ipython3",
   "version": "3.7.4"
  },
  "toc": {
   "base_numbering": 1,
   "nav_menu": {},
   "number_sections": true,
   "sideBar": true,
   "skip_h1_title": false,
   "title_cell": "Table of Contents",
   "title_sidebar": "Contents",
   "toc_cell": false,
   "toc_position": {},
   "toc_section_display": true,
   "toc_window_display": false
  }
 },
 "nbformat": 4,
 "nbformat_minor": 2
}
